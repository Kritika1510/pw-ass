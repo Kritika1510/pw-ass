{
 "cells": [
  {
   "cell_type": "code",
   "execution_count": null,
   "id": "2d6f526d",
   "metadata": {},
   "outputs": [],
   "source": [
    "Q1. The main difference between the Euclidean distance metric and the Manhattan distance metric lies in how they measure the distance between data points:\n",
    "- Euclidean Distance: It calculates the straight-line distance between two points in a Euclidean space. In a 2-dimensional space, the Euclidean distance between two points (x1, y1) and (x2, y2) is given by the formula: \\( \\sqrt{(x2-x1)^2 + (y2-y1)^2} \\).\n",
    "- Manhattan Distance: It measures the distance between two points by summing the absolute differences of their coordinates. In a 2-dimensional space, the Manhattan distance between two points (x1, y1) and (x2, y2) is given by the formula: \\( |x2-x1| + |y2-y1| \\).\n",
    "\n",
    "The difference in how these metrics calculate distance can affect the performance of a KNN classifier or regressor. Euclidean distance tends to give more importance to large differences in any single dimension, while Manhattan distance treats all dimensions equally. Therefore, in scenarios where features are on different scales or have varying importance, the choice of distance metric can impact the algorithm's performance. For example, if the features are all on similar scales and are equally important, Manhattan distance may perform better. However, if the features are on different scales or have varying importance, Euclidean distance may be more appropriate.\n",
    "\n",
    "Q2. To choose the optimal value of k for a KNN classifier or regressor, you can use techniques such as:\n",
    "- Cross-validation: Split the dataset into training and validation sets, then train the KNN model with different values of k and evaluate its performance on the validation set using a chosen evaluation metric (e.g., accuracy for classification, MSE for regression). Select the value of k that yields the best performance on the validation set.\n",
    "- Grid search: Perform a grid search over a range of k values and evaluate the model's performance using cross-validation. Select the k value that maximizes the performance metric.\n",
    "- Domain knowledge: Use domain knowledge or prior experience to select a reasonable range of k values to explore.\n",
    "\n",
    "Q3. The choice of distance metric can significantly affect the performance of a KNN classifier or regressor:\n",
    "- Euclidean distance is sensitive to differences in scale and may not perform well when features have different units or magnitudes. It tends to be more affected by outliers.\n",
    "- Manhattan distance is less sensitive to differences in scale and outliers since it calculates distance by summing the absolute differences of coordinates. It may perform better when features are on different scales or when outliers are present.\n",
    "\n",
    "In general, you might choose one distance metric over the other based on:\n",
    "- The nature of the data: If the features are on similar scales and are equally important, Manhattan distance may be preferred. If the features have different scales or magnitudes, Euclidean distance might be more appropriate.\n",
    "- The presence of outliers: Manhattan distance is less affected by outliers compared to Euclidean distance, so it may be preferred when dealing with datasets containing outliers."
   ]
  }
 ],
 "metadata": {
  "kernelspec": {
   "display_name": "Python 3 (ipykernel)",
   "language": "python",
   "name": "python3"
  },
  "language_info": {
   "codemirror_mode": {
    "name": "ipython",
    "version": 3
   },
   "file_extension": ".py",
   "mimetype": "text/x-python",
   "name": "python",
   "nbconvert_exporter": "python",
   "pygments_lexer": "ipython3",
   "version": "3.11.3"
  }
 },
 "nbformat": 4,
 "nbformat_minor": 5
}
